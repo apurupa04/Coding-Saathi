{
  "nbformat": 4,
  "nbformat_minor": 0,
  "metadata": {
    "colab": {
      "provenance": [],
      "authorship_tag": "ABX9TyMABB8eod9bhCwl0TFtAi1G",
      "include_colab_link": true
    },
    "kernelspec": {
      "name": "python3",
      "display_name": "Python 3"
    },
    "language_info": {
      "name": "python"
    }
  },
  "cells": [
    {
      "cell_type": "markdown",
      "metadata": {
        "id": "view-in-github",
        "colab_type": "text"
      },
      "source": [
        "<a href=\"https://colab.research.google.com/github/apurupa04/Coding-Saathi/blob/main/Untitled32.ipynb\" target=\"_parent\"><img src=\"https://colab.research.google.com/assets/colab-badge.svg\" alt=\"Open In Colab\"/></a>"
      ]
    },
    {
      "cell_type": "code",
      "execution_count": 1,
      "metadata": {
        "colab": {
          "base_uri": "https://localhost:8080/"
        },
        "id": "hGtKDBHvsPa6",
        "outputId": "086eb71d-f0b0-41ab-d011-33383b383b54"
      },
      "outputs": [
        {
          "output_type": "stream",
          "name": "stdout",
          "text": [
            "Enter Lower bound:- 3\n",
            "Enter Upper bound:- 6\n",
            "\n",
            "\tYou've only  2  chances to guess the integer!\n",
            "\n",
            "Guess a number:- 4\n",
            "You Guessed too high!\n",
            "Guess a number:- 5\n",
            "You Guessed too high!\n",
            "\n",
            "The number is 3\n",
            "\tBetter Luck Next time!\n"
          ]
        }
      ],
      "source": [
        "import random\n",
        "import math\n",
        "# Taking Inputs\n",
        "lower = int(input(\"Enter Lower bound:- \"))\n",
        "\n",
        "# Taking Inputs\n",
        "upper = int(input(\"Enter Upper bound:- \"))\n",
        "\n",
        "# generating random number between\n",
        "# the lower and upper\n",
        "x = random.randint(lower, upper)\n",
        "print(\"\\n\\tYou've only \",\n",
        "\tround(math.log(upper - lower + 1, 2)),\n",
        "\t\" chances to guess the integer!\\n\")\n",
        "\n",
        "# Initializing the number of guesses.\n",
        "count = 0\n",
        "\n",
        "# for calculation of minimum number of\n",
        "# guesses depends upon range\n",
        "while count < math.log(upper - lower + 1, 2):\n",
        "\tcount += 1\n",
        "\n",
        "\t# taking guessing number as input\n",
        "\tguess = int(input(\"Guess a number:- \"))\n",
        "\n",
        "\t# Condition testing\n",
        "\tif x == guess:\n",
        "\t\tprint(\"Congratulations you did it in \",\n",
        "\t\t\tcount, \" try\")\n",
        "\t\t# Once guessed, loop will break\n",
        "\t\tbreak\n",
        "\telif x > guess:\n",
        "\t\tprint(\"You guessed too small!\")\n",
        "\telif x < guess:\n",
        "\t\tprint(\"You Guessed too high!\")\n",
        "\n",
        "# If Guessing is more than required guesses,\n",
        "# shows this output.\n",
        "if count >= math.log(upper - lower + 1, 2):\n",
        "\tprint(\"\\nThe number is %d\" % x)\n",
        "\tprint(\"\\tBetter Luck Next time!\")\n",
        "\n",
        "# Better to use This source Code on pycharm!\n"
      ]
    }
  ]
}